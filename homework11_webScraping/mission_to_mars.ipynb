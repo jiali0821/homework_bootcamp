{
 "cells": [
  {
   "cell_type": "code",
   "execution_count": null,
   "metadata": {
    "collapsed": true
   },
   "outputs": [],
   "source": [
    "from bs4 import BeautifulSoup\n",
    "import requests"
   ]
  },
  {
   "cell_type": "code",
   "execution_count": null,
   "metadata": {},
   "outputs": [],
   "source": [
    "#NASA Mars News\n",
    "\n",
    "url = \"https://mars.nasa.gov/news/8331/vice-president-pence-visits-jpl-previews-nasas-next-mars-mission-launch/\"\n",
    "response = requests.get(url)\n",
    "print(response)\n",
    "soup = BeautifulSoup(response.text, 'lxml')\n",
    "\n",
    "news_title = soup.find(\"h1\").text.strip()\n",
    "news_p = soup.find_all(\"p\")[1].text\n",
    "print(news_title)\n",
    "print(news_p)"
   ]
  },
  {
   "cell_type": "code",
   "execution_count": null,
   "metadata": {
    "collapsed": true
   },
   "outputs": [],
   "source": [
    "#JPL Mars Space Images - Featured Image\n",
    "from splinter import Browser\n",
    "\n",
    "browser = Browser('chrome', headless=False)\n",
    "url = 'https://www.jpl.nasa.gov/spaceimages/?search=&category=Mars'\n",
    "browser.visit(url)"
   ]
  },
  {
   "cell_type": "code",
   "execution_count": null,
   "metadata": {},
   "outputs": [],
   "source": [
    "#for i in range(2):\n",
    "\n",
    "html = browser.html\n",
    "\n",
    "soup = BeautifulSoup(html, 'html.parser')\n",
    "\n",
    "featured_image_url = soup.find_all(\"ul\", class_=\"articles\")[0].a[\"data-fancybox-href\"]\n",
    "\n",
    "print(featured_image_url)\n"
   ]
  },
  {
   "cell_type": "code",
   "execution_count": null,
   "metadata": {},
   "outputs": [],
   "source": [
    "# Mars Weather\n",
    "import tweepy\n",
    "import json\n",
    "\n",
    "# Twitter API Keys\n",
    "consumer_key = \"c6dgM5QsWgeCohFBph3KYMoEg\"\n",
    "consumer_secret = \"DeeARxOWob5QNDtB0naVuoOJzUAPiYVakwLqT3gdCFVqHBkEd6\"\n",
    "access_token = \"2877438220-pzB64pnJWU6Y7eL03rM94ho0pQ5uSmwiXMY9aEn\"\n",
    "access_token_secret = \"G4pijrgYjA0WyH3cMhy85Y3LE2qob04kTnzBfWj8gdDMy\"\n",
    "\n",
    "# Setup Tweepy API Authentication\n",
    "auth = tweepy.OAuthHandler(consumer_key, consumer_secret)\n",
    "auth.set_access_token(access_token, access_token_secret)\n",
    "api = tweepy.API(auth, parser=tweepy.parsers.JSONParser())\n",
    "\n",
    "target_user = \"@MarsWxReport\"\n",
    "\n",
    "public_tweets = api.user_timeline(target_user)\n",
    "\n",
    "for tweet in public_tweets:\n",
    "\n",
    "    # Utilize JSON dumps to generate a pretty-printed json\n",
    "    lastest_weather = tweet[\"text\"]\n",
    "    \n",
    "print(lastest_weather)\n",
    "    "
   ]
  },
  {
   "cell_type": "code",
   "execution_count": 20,
   "metadata": {},
   "outputs": [],
   "source": [
    "#Mars Facts\n",
    "\n",
    "import pandas as pd\n",
    "\n",
    "url = \"https://space-facts.com/mars/\"\n",
    "\n",
    "table = pd.read_html(url)\n",
    "\n",
    "\n",
    "#???? why it becomes a df after adding a [0]\n",
    "df = table[0]\n",
    "\n",
    "\n",
    "html_table = df.to_html()\n",
    "\n",
    "html_table_paras = html_table.replace('\\n', '')\n",
    "\n",
    "df.to_html('table.html')"
   ]
  },
  {
   "cell_type": "code",
   "execution_count": null,
   "metadata": {
    "collapsed": true
   },
   "outputs": [],
   "source": []
  }
 ],
 "metadata": {
  "kernelspec": {
   "display_name": "Python 3",
   "language": "python",
   "name": "python3"
  },
  "language_info": {
   "codemirror_mode": {
    "name": "ipython",
    "version": 3
   },
   "file_extension": ".py",
   "mimetype": "text/x-python",
   "name": "python",
   "nbconvert_exporter": "python",
   "pygments_lexer": "ipython3",
   "version": "3.6.3"
  }
 },
 "nbformat": 4,
 "nbformat_minor": 2
}
